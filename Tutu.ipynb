{
  "cells": [
    {
      "cell_type": "markdown",
      "metadata": {
        "id": "view-in-github",
        "colab_type": "text"
      },
      "source": [
        "<a href=\"https://colab.research.google.com/github/1nvl/EDA-Superstore/blob/main/Tutu.ipynb\" target=\"_parent\"><img src=\"https://colab.research.google.com/assets/colab-badge.svg\" alt=\"Open In Colab\"/></a>"
      ]
    },
    {
      "cell_type": "code",
      "execution_count": 60,
      "metadata": {
        "colab": {
          "base_uri": "https://localhost:8080/",
          "height": 458
        },
        "id": "uxk1E0amH2nZ",
        "outputId": "9d9911bf-d10c-49d8-b116-74c6dcbba303"
      },
      "outputs": [
        {
          "output_type": "stream",
          "name": "stderr",
          "text": [
            "<ipython-input-60-983cb68c8b9d>:3: FutureWarning: In a future version of pandas all arguments of read_csv except for the argument 'filepath_or_buffer' will be keyword-only.\n",
            "  df = pd.read_csv('ha_data.csv',';')\n"
          ]
        },
        {
          "output_type": "execute_result",
          "data": {
            "text/plain": [
              "         order_id     page_id           product site_version  \\\n",
              "0             NaN         3.0           company       mobile   \n",
              "1             NaN   3699687.0           company       mobile   \n",
              "2             NaN        14.0          sneakers       mobile   \n",
              "3             NaN  10362176.0           company       mobile   \n",
              "4             NaN        14.0          sneakers       mobile   \n",
              "...           ...         ...               ...          ...   \n",
              "8471221       NaN  24897184.0       accessories      desktop   \n",
              "8471222       NaN  24897190.0           clothes       mobile   \n",
              "8471223       NaN  24897203.0  sports_nutrition       mobile   \n",
              "8471224       NaN  24897205.0          sneakers       mobile   \n",
              "8471225       NaN  24897215.0       accessories       mobile   \n",
              "\n",
              "                        time         title          user  \n",
              "0        2017-02-09 20:24:04   banner_show        user_0  \n",
              "1        2017-02-07 10:03:07   banner_show        user_0  \n",
              "2        2017-01-29 13:02:23   banner_show        user_1  \n",
              "3        2017-04-12 15:39:19   banner_show        user_1  \n",
              "4        2017-01-29 13:04:42  banner_click        user_1  \n",
              "...                      ...           ...           ...  \n",
              "8471221  2017-05-23 14:07:00   banner_show  user_4254616  \n",
              "8471222  2017-05-28 08:10:20   banner_show  user_4254617  \n",
              "8471223  2017-05-20 09:20:50   banner_show  user_4254618  \n",
              "8471224  2017-05-28 19:25:42   banner_show  user_4254619  \n",
              "8471225  2017-05-31 09:18:24   banner_show  user_4254620  \n",
              "\n",
              "[8471226 rows x 7 columns]"
            ],
            "text/html": [
              "\n",
              "  <div id=\"df-c8918016-838f-44e0-bc56-eefded4f1f6a\" class=\"colab-df-container\">\n",
              "    <div>\n",
              "<style scoped>\n",
              "    .dataframe tbody tr th:only-of-type {\n",
              "        vertical-align: middle;\n",
              "    }\n",
              "\n",
              "    .dataframe tbody tr th {\n",
              "        vertical-align: top;\n",
              "    }\n",
              "\n",
              "    .dataframe thead th {\n",
              "        text-align: right;\n",
              "    }\n",
              "</style>\n",
              "<table border=\"1\" class=\"dataframe\">\n",
              "  <thead>\n",
              "    <tr style=\"text-align: right;\">\n",
              "      <th></th>\n",
              "      <th>order_id</th>\n",
              "      <th>page_id</th>\n",
              "      <th>product</th>\n",
              "      <th>site_version</th>\n",
              "      <th>time</th>\n",
              "      <th>title</th>\n",
              "      <th>user</th>\n",
              "    </tr>\n",
              "  </thead>\n",
              "  <tbody>\n",
              "    <tr>\n",
              "      <th>0</th>\n",
              "      <td>NaN</td>\n",
              "      <td>3.0</td>\n",
              "      <td>company</td>\n",
              "      <td>mobile</td>\n",
              "      <td>2017-02-09 20:24:04</td>\n",
              "      <td>banner_show</td>\n",
              "      <td>user_0</td>\n",
              "    </tr>\n",
              "    <tr>\n",
              "      <th>1</th>\n",
              "      <td>NaN</td>\n",
              "      <td>3699687.0</td>\n",
              "      <td>company</td>\n",
              "      <td>mobile</td>\n",
              "      <td>2017-02-07 10:03:07</td>\n",
              "      <td>banner_show</td>\n",
              "      <td>user_0</td>\n",
              "    </tr>\n",
              "    <tr>\n",
              "      <th>2</th>\n",
              "      <td>NaN</td>\n",
              "      <td>14.0</td>\n",
              "      <td>sneakers</td>\n",
              "      <td>mobile</td>\n",
              "      <td>2017-01-29 13:02:23</td>\n",
              "      <td>banner_show</td>\n",
              "      <td>user_1</td>\n",
              "    </tr>\n",
              "    <tr>\n",
              "      <th>3</th>\n",
              "      <td>NaN</td>\n",
              "      <td>10362176.0</td>\n",
              "      <td>company</td>\n",
              "      <td>mobile</td>\n",
              "      <td>2017-04-12 15:39:19</td>\n",
              "      <td>banner_show</td>\n",
              "      <td>user_1</td>\n",
              "    </tr>\n",
              "    <tr>\n",
              "      <th>4</th>\n",
              "      <td>NaN</td>\n",
              "      <td>14.0</td>\n",
              "      <td>sneakers</td>\n",
              "      <td>mobile</td>\n",
              "      <td>2017-01-29 13:04:42</td>\n",
              "      <td>banner_click</td>\n",
              "      <td>user_1</td>\n",
              "    </tr>\n",
              "    <tr>\n",
              "      <th>...</th>\n",
              "      <td>...</td>\n",
              "      <td>...</td>\n",
              "      <td>...</td>\n",
              "      <td>...</td>\n",
              "      <td>...</td>\n",
              "      <td>...</td>\n",
              "      <td>...</td>\n",
              "    </tr>\n",
              "    <tr>\n",
              "      <th>8471221</th>\n",
              "      <td>NaN</td>\n",
              "      <td>24897184.0</td>\n",
              "      <td>accessories</td>\n",
              "      <td>desktop</td>\n",
              "      <td>2017-05-23 14:07:00</td>\n",
              "      <td>banner_show</td>\n",
              "      <td>user_4254616</td>\n",
              "    </tr>\n",
              "    <tr>\n",
              "      <th>8471222</th>\n",
              "      <td>NaN</td>\n",
              "      <td>24897190.0</td>\n",
              "      <td>clothes</td>\n",
              "      <td>mobile</td>\n",
              "      <td>2017-05-28 08:10:20</td>\n",
              "      <td>banner_show</td>\n",
              "      <td>user_4254617</td>\n",
              "    </tr>\n",
              "    <tr>\n",
              "      <th>8471223</th>\n",
              "      <td>NaN</td>\n",
              "      <td>24897203.0</td>\n",
              "      <td>sports_nutrition</td>\n",
              "      <td>mobile</td>\n",
              "      <td>2017-05-20 09:20:50</td>\n",
              "      <td>banner_show</td>\n",
              "      <td>user_4254618</td>\n",
              "    </tr>\n",
              "    <tr>\n",
              "      <th>8471224</th>\n",
              "      <td>NaN</td>\n",
              "      <td>24897205.0</td>\n",
              "      <td>sneakers</td>\n",
              "      <td>mobile</td>\n",
              "      <td>2017-05-28 19:25:42</td>\n",
              "      <td>banner_show</td>\n",
              "      <td>user_4254619</td>\n",
              "    </tr>\n",
              "    <tr>\n",
              "      <th>8471225</th>\n",
              "      <td>NaN</td>\n",
              "      <td>24897215.0</td>\n",
              "      <td>accessories</td>\n",
              "      <td>mobile</td>\n",
              "      <td>2017-05-31 09:18:24</td>\n",
              "      <td>banner_show</td>\n",
              "      <td>user_4254620</td>\n",
              "    </tr>\n",
              "  </tbody>\n",
              "</table>\n",
              "<p>8471226 rows × 7 columns</p>\n",
              "</div>\n",
              "    <div class=\"colab-df-buttons\">\n",
              "\n",
              "  <div class=\"colab-df-container\">\n",
              "    <button class=\"colab-df-convert\" onclick=\"convertToInteractive('df-c8918016-838f-44e0-bc56-eefded4f1f6a')\"\n",
              "            title=\"Convert this dataframe to an interactive table.\"\n",
              "            style=\"display:none;\">\n",
              "\n",
              "  <svg xmlns=\"http://www.w3.org/2000/svg\" height=\"24px\" viewBox=\"0 -960 960 960\">\n",
              "    <path d=\"M120-120v-720h720v720H120Zm60-500h600v-160H180v160Zm220 220h160v-160H400v160Zm0 220h160v-160H400v160ZM180-400h160v-160H180v160Zm440 0h160v-160H620v160ZM180-180h160v-160H180v160Zm440 0h160v-160H620v160Z\"/>\n",
              "  </svg>\n",
              "    </button>\n",
              "\n",
              "  <style>\n",
              "    .colab-df-container {\n",
              "      display:flex;\n",
              "      gap: 12px;\n",
              "    }\n",
              "\n",
              "    .colab-df-convert {\n",
              "      background-color: #E8F0FE;\n",
              "      border: none;\n",
              "      border-radius: 50%;\n",
              "      cursor: pointer;\n",
              "      display: none;\n",
              "      fill: #1967D2;\n",
              "      height: 32px;\n",
              "      padding: 0 0 0 0;\n",
              "      width: 32px;\n",
              "    }\n",
              "\n",
              "    .colab-df-convert:hover {\n",
              "      background-color: #E2EBFA;\n",
              "      box-shadow: 0px 1px 2px rgba(60, 64, 67, 0.3), 0px 1px 3px 1px rgba(60, 64, 67, 0.15);\n",
              "      fill: #174EA6;\n",
              "    }\n",
              "\n",
              "    .colab-df-buttons div {\n",
              "      margin-bottom: 4px;\n",
              "    }\n",
              "\n",
              "    [theme=dark] .colab-df-convert {\n",
              "      background-color: #3B4455;\n",
              "      fill: #D2E3FC;\n",
              "    }\n",
              "\n",
              "    [theme=dark] .colab-df-convert:hover {\n",
              "      background-color: #434B5C;\n",
              "      box-shadow: 0px 1px 3px 1px rgba(0, 0, 0, 0.15);\n",
              "      filter: drop-shadow(0px 1px 2px rgba(0, 0, 0, 0.3));\n",
              "      fill: #FFFFFF;\n",
              "    }\n",
              "  </style>\n",
              "\n",
              "    <script>\n",
              "      const buttonEl =\n",
              "        document.querySelector('#df-c8918016-838f-44e0-bc56-eefded4f1f6a button.colab-df-convert');\n",
              "      buttonEl.style.display =\n",
              "        google.colab.kernel.accessAllowed ? 'block' : 'none';\n",
              "\n",
              "      async function convertToInteractive(key) {\n",
              "        const element = document.querySelector('#df-c8918016-838f-44e0-bc56-eefded4f1f6a');\n",
              "        const dataTable =\n",
              "          await google.colab.kernel.invokeFunction('convertToInteractive',\n",
              "                                                    [key], {});\n",
              "        if (!dataTable) return;\n",
              "\n",
              "        const docLinkHtml = 'Like what you see? Visit the ' +\n",
              "          '<a target=\"_blank\" href=https://colab.research.google.com/notebooks/data_table.ipynb>data table notebook</a>'\n",
              "          + ' to learn more about interactive tables.';\n",
              "        element.innerHTML = '';\n",
              "        dataTable['output_type'] = 'display_data';\n",
              "        await google.colab.output.renderOutput(dataTable, element);\n",
              "        const docLink = document.createElement('div');\n",
              "        docLink.innerHTML = docLinkHtml;\n",
              "        element.appendChild(docLink);\n",
              "      }\n",
              "    </script>\n",
              "  </div>\n",
              "\n",
              "\n",
              "<div id=\"df-4bd3c178-3cb4-4839-9a49-3fe19223aff7\">\n",
              "  <button class=\"colab-df-quickchart\" onclick=\"quickchart('df-4bd3c178-3cb4-4839-9a49-3fe19223aff7')\"\n",
              "            title=\"Suggest charts.\"\n",
              "            style=\"display:none;\">\n",
              "\n",
              "<svg xmlns=\"http://www.w3.org/2000/svg\" height=\"24px\"viewBox=\"0 0 24 24\"\n",
              "     width=\"24px\">\n",
              "    <g>\n",
              "        <path d=\"M19 3H5c-1.1 0-2 .9-2 2v14c0 1.1.9 2 2 2h14c1.1 0 2-.9 2-2V5c0-1.1-.9-2-2-2zM9 17H7v-7h2v7zm4 0h-2V7h2v10zm4 0h-2v-4h2v4z\"/>\n",
              "    </g>\n",
              "</svg>\n",
              "  </button>\n",
              "\n",
              "<style>\n",
              "  .colab-df-quickchart {\n",
              "      --bg-color: #E8F0FE;\n",
              "      --fill-color: #1967D2;\n",
              "      --hover-bg-color: #E2EBFA;\n",
              "      --hover-fill-color: #174EA6;\n",
              "      --disabled-fill-color: #AAA;\n",
              "      --disabled-bg-color: #DDD;\n",
              "  }\n",
              "\n",
              "  [theme=dark] .colab-df-quickchart {\n",
              "      --bg-color: #3B4455;\n",
              "      --fill-color: #D2E3FC;\n",
              "      --hover-bg-color: #434B5C;\n",
              "      --hover-fill-color: #FFFFFF;\n",
              "      --disabled-bg-color: #3B4455;\n",
              "      --disabled-fill-color: #666;\n",
              "  }\n",
              "\n",
              "  .colab-df-quickchart {\n",
              "    background-color: var(--bg-color);\n",
              "    border: none;\n",
              "    border-radius: 50%;\n",
              "    cursor: pointer;\n",
              "    display: none;\n",
              "    fill: var(--fill-color);\n",
              "    height: 32px;\n",
              "    padding: 0;\n",
              "    width: 32px;\n",
              "  }\n",
              "\n",
              "  .colab-df-quickchart:hover {\n",
              "    background-color: var(--hover-bg-color);\n",
              "    box-shadow: 0 1px 2px rgba(60, 64, 67, 0.3), 0 1px 3px 1px rgba(60, 64, 67, 0.15);\n",
              "    fill: var(--button-hover-fill-color);\n",
              "  }\n",
              "\n",
              "  .colab-df-quickchart-complete:disabled,\n",
              "  .colab-df-quickchart-complete:disabled:hover {\n",
              "    background-color: var(--disabled-bg-color);\n",
              "    fill: var(--disabled-fill-color);\n",
              "    box-shadow: none;\n",
              "  }\n",
              "\n",
              "  .colab-df-spinner {\n",
              "    border: 2px solid var(--fill-color);\n",
              "    border-color: transparent;\n",
              "    border-bottom-color: var(--fill-color);\n",
              "    animation:\n",
              "      spin 1s steps(1) infinite;\n",
              "  }\n",
              "\n",
              "  @keyframes spin {\n",
              "    0% {\n",
              "      border-color: transparent;\n",
              "      border-bottom-color: var(--fill-color);\n",
              "      border-left-color: var(--fill-color);\n",
              "    }\n",
              "    20% {\n",
              "      border-color: transparent;\n",
              "      border-left-color: var(--fill-color);\n",
              "      border-top-color: var(--fill-color);\n",
              "    }\n",
              "    30% {\n",
              "      border-color: transparent;\n",
              "      border-left-color: var(--fill-color);\n",
              "      border-top-color: var(--fill-color);\n",
              "      border-right-color: var(--fill-color);\n",
              "    }\n",
              "    40% {\n",
              "      border-color: transparent;\n",
              "      border-right-color: var(--fill-color);\n",
              "      border-top-color: var(--fill-color);\n",
              "    }\n",
              "    60% {\n",
              "      border-color: transparent;\n",
              "      border-right-color: var(--fill-color);\n",
              "    }\n",
              "    80% {\n",
              "      border-color: transparent;\n",
              "      border-right-color: var(--fill-color);\n",
              "      border-bottom-color: var(--fill-color);\n",
              "    }\n",
              "    90% {\n",
              "      border-color: transparent;\n",
              "      border-bottom-color: var(--fill-color);\n",
              "    }\n",
              "  }\n",
              "</style>\n",
              "\n",
              "  <script>\n",
              "    async function quickchart(key) {\n",
              "      const quickchartButtonEl =\n",
              "        document.querySelector('#' + key + ' button');\n",
              "      quickchartButtonEl.disabled = true;  // To prevent multiple clicks.\n",
              "      quickchartButtonEl.classList.add('colab-df-spinner');\n",
              "      try {\n",
              "        const charts = await google.colab.kernel.invokeFunction(\n",
              "            'suggestCharts', [key], {});\n",
              "      } catch (error) {\n",
              "        console.error('Error during call to suggestCharts:', error);\n",
              "      }\n",
              "      quickchartButtonEl.classList.remove('colab-df-spinner');\n",
              "      quickchartButtonEl.classList.add('colab-df-quickchart-complete');\n",
              "    }\n",
              "    (() => {\n",
              "      let quickchartButtonEl =\n",
              "        document.querySelector('#df-4bd3c178-3cb4-4839-9a49-3fe19223aff7 button');\n",
              "      quickchartButtonEl.style.display =\n",
              "        google.colab.kernel.accessAllowed ? 'block' : 'none';\n",
              "    })();\n",
              "  </script>\n",
              "</div>\n",
              "    </div>\n",
              "  </div>\n"
            ]
          },
          "metadata": {},
          "execution_count": 60
        }
      ],
      "source": [
        "#Импортируем библиотеку Пандас для работы с данными, прочитаем csv файл и выведем наш датасет:\n",
        "import pandas as pd\n",
        "df = pd.read_csv('ha_data.csv',';')\n",
        "df"
      ]
    },
    {
      "cell_type": "code",
      "execution_count": 2,
      "metadata": {
        "colab": {
          "base_uri": "https://localhost:8080/"
        },
        "id": "ptceYe1pKg8H",
        "outputId": "b91362f8-e82a-45d9-c554-8a9c373e7776"
      },
      "outputs": [
        {
          "output_type": "stream",
          "name": "stdout",
          "text": [
            "title             banner_click  banner_show   order\n",
            "product                                            \n",
            "accessories             136254      1440954   44551\n",
            "clothes                 220595      1453128  112715\n",
            "company                 144821      1580238       0\n",
            "sneakers                182597      1453029   67719\n",
            "sports_nutrition        144918      1465970   23737\n"
          ]
        }
      ],
      "source": [
        "#Кол-во показов, кликов и покупок для каждого нашего баннера за все время:\n",
        "banner_counts = df.groupby('product')['title'].value_counts().unstack(fill_value=0)\n",
        "print(banner_counts)"
      ]
    },
    {
      "cell_type": "code",
      "execution_count": 3,
      "metadata": {
        "colab": {
          "base_uri": "https://localhost:8080/"
        },
        "id": "L0G5CvobKjqr",
        "outputId": "0973a414-2577-4045-ee91-53138a695889"
      },
      "outputs": [
        {
          "output_type": "stream",
          "name": "stdout",
          "text": [
            "product\n",
            "accessories          9.455819\n",
            "clothes             15.180700\n",
            "company              9.164506\n",
            "sneakers            12.566645\n",
            "sports_nutrition     9.885468\n",
            "dtype: float64\n"
          ]
        }
      ],
      "source": [
        "#Показатель кликабельности(CTR) для каждого продукта за все время:\n",
        "banner_ctr = banner_counts['banner_click']/banner_counts['banner_show']*100\n",
        "print(banner_ctr)"
      ]
    },
    {
      "cell_type": "code",
      "execution_count": 12,
      "metadata": {
        "colab": {
          "base_uri": "https://localhost:8080/"
        },
        "id": "JbV5PYWHKuas",
        "outputId": "85983f48-e50b-4d58-e95b-abcf66a0f8d0"
      },
      "outputs": [
        {
          "output_type": "stream",
          "name": "stdout",
          "text": [
            "product\n",
            "accessories         3.091771\n",
            "clothes             7.756715\n",
            "company             0.000000\n",
            "sneakers            4.660540\n",
            "sports_nutrition    1.619201\n",
            "dtype: float64\n"
          ]
        }
      ],
      "source": [
        "#Конверсия в покупку (CR) для каждого продукта за все время:\n",
        "banner_cr = banner_counts['order']/banner_counts['banner_show']*100\n",
        "print(banner_cr)"
      ]
    },
    {
      "cell_type": "code",
      "execution_count": 11,
      "metadata": {
        "colab": {
          "base_uri": "https://localhost:8080/"
        },
        "id": "Ejtrb7sMKx7t",
        "outputId": "b3c34f77-06d4-456d-ed24-4549460c3852"
      },
      "outputs": [
        {
          "output_type": "stream",
          "name": "stdout",
          "text": [
            "product\n",
            "accessories         32.697022\n",
            "clothes             51.095900\n",
            "company              0.000000\n",
            "sneakers            37.086590\n",
            "sports_nutrition    16.379608\n",
            "dtype: float64\n"
          ]
        }
      ],
      "source": [
        "#Какой процент кликов приводит к покупке для каждого продукта за все время:\n",
        "banner_сlick_to_order = banner_counts['order']/banner_counts['banner_click']*100\n",
        "print(banner_сlick_to_order)"
      ]
    },
    {
      "cell_type": "code",
      "execution_count": 63,
      "metadata": {
        "colab": {
          "base_uri": "https://localhost:8080/"
        },
        "id": "mDAgQXLoXVah",
        "outputId": "01cb900f-3918-4897-84dd-986aef884131"
      },
      "outputs": [
        {
          "output_type": "stream",
          "name": "stdout",
          "text": [
            "title         banner_click  banner_show   order\n",
            "site_version                                   \n",
            "desktop             115065      2134640  133181\n",
            "mobile              714120      5258679  115541\n"
          ]
        }
      ],
      "source": [
        "#Кол-во показов, кликов и покупок всех продуктов на каждой версии сайта за все время:\n",
        "banner_site_version = df.groupby('site_version')['title'].value_counts().unstack(fill_value=0)\n",
        "print(banner_site_version)"
      ]
    },
    {
      "cell_type": "code",
      "execution_count": 14,
      "metadata": {
        "colab": {
          "base_uri": "https://localhost:8080/"
        },
        "id": "1oyE4805YenU",
        "outputId": "ec317d1c-1a0a-40f1-e608-14f91d0864dc"
      },
      "outputs": [
        {
          "output_type": "stream",
          "name": "stdout",
          "text": [
            "site_version\n",
            "desktop     5.390370\n",
            "mobile     13.579836\n",
            "dtype: float64\n"
          ]
        }
      ],
      "source": [
        "#Показатель кликабельности (CTR) для каждой версии сайта:\n",
        "site_version_ctr = banner_site_version['banner_click']/banner_site_version['banner_show']*100\n",
        "print(site_version_ctr)\n"
      ]
    },
    {
      "cell_type": "code",
      "execution_count": 15,
      "metadata": {
        "colab": {
          "base_uri": "https://localhost:8080/"
        },
        "id": "fWH_vWVoZTOV",
        "outputId": "c8b30ad5-998b-41ca-a9b9-1a22a9331b98"
      },
      "outputs": [
        {
          "output_type": "stream",
          "name": "stdout",
          "text": [
            "site_version\n",
            "desktop    6.239038\n",
            "mobile     2.197149\n",
            "dtype: float64\n"
          ]
        }
      ],
      "source": [
        "#Конверсия в покупку (CR) для каждой версии сайта:\n",
        "site_version_cr = banner_site_version['order']/banner_site_version['banner_show']*100\n",
        "print(site_version_cr)\n"
      ]
    },
    {
      "cell_type": "code",
      "source": [
        "#Сортировка по time по убыванию:\n",
        "df.sort_values(by='time',ascending=False)"
      ],
      "metadata": {
        "id": "92Q7egAXpOWD"
      },
      "execution_count": null,
      "outputs": []
    },
    {
      "cell_type": "code",
      "source": [
        "#Преобразуем столбец time в формат даты и времени, выведем все записи последнего месяца (май - последний месяц):\n",
        "df['time'] = pd.to_datetime(df['time'])\n",
        "df['month'] = df['time'].dt.month\n",
        "df_may = df[df['month']==5]\n",
        "df_may.sort_values(by='time',ascending=False)"
      ],
      "metadata": {
        "colab": {
          "base_uri": "https://localhost:8080/",
          "height": 424
        },
        "id": "OoDvU6LEu_9j",
        "outputId": "d9110525-df53-4dba-c2bf-e3745b71386c"
      },
      "execution_count": 17,
      "outputs": [
        {
          "output_type": "execute_result",
          "data": {
            "text/plain": [
              "         order_id     page_id           product site_version  \\\n",
              "7880258  354948.0         NaN           clothes      desktop   \n",
              "7808442       NaN  22326691.0           clothes       mobile   \n",
              "8363442       NaN  24446787.0  sports_nutrition       mobile   \n",
              "8165105       NaN  23658876.0           clothes      desktop   \n",
              "8151182       NaN  23601866.0           company       mobile   \n",
              "...           ...         ...               ...          ...   \n",
              "6298645       NaN  16922876.0           company       mobile   \n",
              "8022916       NaN  23114628.0           company      desktop   \n",
              "7164663  305073.0         NaN       accessories      desktop   \n",
              "5245930       NaN  13783299.0           company       mobile   \n",
              "5624435       NaN  22816201.0           company      desktop   \n",
              "\n",
              "                       time         title          user  month  \n",
              "7880258 2017-05-31 23:59:58         order  user_3884986      5  \n",
              "7808442 2017-05-31 23:59:53   banner_show  user_3843064      5  \n",
              "8363442 2017-05-31 23:59:51  banner_click  user_4182938      5  \n",
              "8165105 2017-05-31 23:59:40   banner_show  user_4056326      5  \n",
              "8151182 2017-05-31 23:59:37   banner_show  user_4047676      5  \n",
              "...                     ...           ...           ...    ...  \n",
              "6298645 2017-05-01 00:00:15   banner_show  user_2994842      5  \n",
              "8022916 2017-05-01 00:00:10   banner_show  user_3969556      5  \n",
              "7164663 2017-05-01 00:00:08         order  user_3474533      5  \n",
              "5245930 2017-05-01 00:00:07   banner_show  user_2457220      5  \n",
              "5624435 2017-05-01 00:00:02   banner_show  user_2643547      5  \n",
              "\n",
              "[2130108 rows x 8 columns]"
            ],
            "text/html": [
              "\n",
              "  <div id=\"df-863bec69-48a7-460c-9fbd-9d5ba72c4515\" class=\"colab-df-container\">\n",
              "    <div>\n",
              "<style scoped>\n",
              "    .dataframe tbody tr th:only-of-type {\n",
              "        vertical-align: middle;\n",
              "    }\n",
              "\n",
              "    .dataframe tbody tr th {\n",
              "        vertical-align: top;\n",
              "    }\n",
              "\n",
              "    .dataframe thead th {\n",
              "        text-align: right;\n",
              "    }\n",
              "</style>\n",
              "<table border=\"1\" class=\"dataframe\">\n",
              "  <thead>\n",
              "    <tr style=\"text-align: right;\">\n",
              "      <th></th>\n",
              "      <th>order_id</th>\n",
              "      <th>page_id</th>\n",
              "      <th>product</th>\n",
              "      <th>site_version</th>\n",
              "      <th>time</th>\n",
              "      <th>title</th>\n",
              "      <th>user</th>\n",
              "      <th>month</th>\n",
              "    </tr>\n",
              "  </thead>\n",
              "  <tbody>\n",
              "    <tr>\n",
              "      <th>7880258</th>\n",
              "      <td>354948.0</td>\n",
              "      <td>NaN</td>\n",
              "      <td>clothes</td>\n",
              "      <td>desktop</td>\n",
              "      <td>2017-05-31 23:59:58</td>\n",
              "      <td>order</td>\n",
              "      <td>user_3884986</td>\n",
              "      <td>5</td>\n",
              "    </tr>\n",
              "    <tr>\n",
              "      <th>7808442</th>\n",
              "      <td>NaN</td>\n",
              "      <td>22326691.0</td>\n",
              "      <td>clothes</td>\n",
              "      <td>mobile</td>\n",
              "      <td>2017-05-31 23:59:53</td>\n",
              "      <td>banner_show</td>\n",
              "      <td>user_3843064</td>\n",
              "      <td>5</td>\n",
              "    </tr>\n",
              "    <tr>\n",
              "      <th>8363442</th>\n",
              "      <td>NaN</td>\n",
              "      <td>24446787.0</td>\n",
              "      <td>sports_nutrition</td>\n",
              "      <td>mobile</td>\n",
              "      <td>2017-05-31 23:59:51</td>\n",
              "      <td>banner_click</td>\n",
              "      <td>user_4182938</td>\n",
              "      <td>5</td>\n",
              "    </tr>\n",
              "    <tr>\n",
              "      <th>8165105</th>\n",
              "      <td>NaN</td>\n",
              "      <td>23658876.0</td>\n",
              "      <td>clothes</td>\n",
              "      <td>desktop</td>\n",
              "      <td>2017-05-31 23:59:40</td>\n",
              "      <td>banner_show</td>\n",
              "      <td>user_4056326</td>\n",
              "      <td>5</td>\n",
              "    </tr>\n",
              "    <tr>\n",
              "      <th>8151182</th>\n",
              "      <td>NaN</td>\n",
              "      <td>23601866.0</td>\n",
              "      <td>company</td>\n",
              "      <td>mobile</td>\n",
              "      <td>2017-05-31 23:59:37</td>\n",
              "      <td>banner_show</td>\n",
              "      <td>user_4047676</td>\n",
              "      <td>5</td>\n",
              "    </tr>\n",
              "    <tr>\n",
              "      <th>...</th>\n",
              "      <td>...</td>\n",
              "      <td>...</td>\n",
              "      <td>...</td>\n",
              "      <td>...</td>\n",
              "      <td>...</td>\n",
              "      <td>...</td>\n",
              "      <td>...</td>\n",
              "      <td>...</td>\n",
              "    </tr>\n",
              "    <tr>\n",
              "      <th>6298645</th>\n",
              "      <td>NaN</td>\n",
              "      <td>16922876.0</td>\n",
              "      <td>company</td>\n",
              "      <td>mobile</td>\n",
              "      <td>2017-05-01 00:00:15</td>\n",
              "      <td>banner_show</td>\n",
              "      <td>user_2994842</td>\n",
              "      <td>5</td>\n",
              "    </tr>\n",
              "    <tr>\n",
              "      <th>8022916</th>\n",
              "      <td>NaN</td>\n",
              "      <td>23114628.0</td>\n",
              "      <td>company</td>\n",
              "      <td>desktop</td>\n",
              "      <td>2017-05-01 00:00:10</td>\n",
              "      <td>banner_show</td>\n",
              "      <td>user_3969556</td>\n",
              "      <td>5</td>\n",
              "    </tr>\n",
              "    <tr>\n",
              "      <th>7164663</th>\n",
              "      <td>305073.0</td>\n",
              "      <td>NaN</td>\n",
              "      <td>accessories</td>\n",
              "      <td>desktop</td>\n",
              "      <td>2017-05-01 00:00:08</td>\n",
              "      <td>order</td>\n",
              "      <td>user_3474533</td>\n",
              "      <td>5</td>\n",
              "    </tr>\n",
              "    <tr>\n",
              "      <th>5245930</th>\n",
              "      <td>NaN</td>\n",
              "      <td>13783299.0</td>\n",
              "      <td>company</td>\n",
              "      <td>mobile</td>\n",
              "      <td>2017-05-01 00:00:07</td>\n",
              "      <td>banner_show</td>\n",
              "      <td>user_2457220</td>\n",
              "      <td>5</td>\n",
              "    </tr>\n",
              "    <tr>\n",
              "      <th>5624435</th>\n",
              "      <td>NaN</td>\n",
              "      <td>22816201.0</td>\n",
              "      <td>company</td>\n",
              "      <td>desktop</td>\n",
              "      <td>2017-05-01 00:00:02</td>\n",
              "      <td>banner_show</td>\n",
              "      <td>user_2643547</td>\n",
              "      <td>5</td>\n",
              "    </tr>\n",
              "  </tbody>\n",
              "</table>\n",
              "<p>2130108 rows × 8 columns</p>\n",
              "</div>\n",
              "    <div class=\"colab-df-buttons\">\n",
              "\n",
              "  <div class=\"colab-df-container\">\n",
              "    <button class=\"colab-df-convert\" onclick=\"convertToInteractive('df-863bec69-48a7-460c-9fbd-9d5ba72c4515')\"\n",
              "            title=\"Convert this dataframe to an interactive table.\"\n",
              "            style=\"display:none;\">\n",
              "\n",
              "  <svg xmlns=\"http://www.w3.org/2000/svg\" height=\"24px\" viewBox=\"0 -960 960 960\">\n",
              "    <path d=\"M120-120v-720h720v720H120Zm60-500h600v-160H180v160Zm220 220h160v-160H400v160Zm0 220h160v-160H400v160ZM180-400h160v-160H180v160Zm440 0h160v-160H620v160ZM180-180h160v-160H180v160Zm440 0h160v-160H620v160Z\"/>\n",
              "  </svg>\n",
              "    </button>\n",
              "\n",
              "  <style>\n",
              "    .colab-df-container {\n",
              "      display:flex;\n",
              "      gap: 12px;\n",
              "    }\n",
              "\n",
              "    .colab-df-convert {\n",
              "      background-color: #E8F0FE;\n",
              "      border: none;\n",
              "      border-radius: 50%;\n",
              "      cursor: pointer;\n",
              "      display: none;\n",
              "      fill: #1967D2;\n",
              "      height: 32px;\n",
              "      padding: 0 0 0 0;\n",
              "      width: 32px;\n",
              "    }\n",
              "\n",
              "    .colab-df-convert:hover {\n",
              "      background-color: #E2EBFA;\n",
              "      box-shadow: 0px 1px 2px rgba(60, 64, 67, 0.3), 0px 1px 3px 1px rgba(60, 64, 67, 0.15);\n",
              "      fill: #174EA6;\n",
              "    }\n",
              "\n",
              "    .colab-df-buttons div {\n",
              "      margin-bottom: 4px;\n",
              "    }\n",
              "\n",
              "    [theme=dark] .colab-df-convert {\n",
              "      background-color: #3B4455;\n",
              "      fill: #D2E3FC;\n",
              "    }\n",
              "\n",
              "    [theme=dark] .colab-df-convert:hover {\n",
              "      background-color: #434B5C;\n",
              "      box-shadow: 0px 1px 3px 1px rgba(0, 0, 0, 0.15);\n",
              "      filter: drop-shadow(0px 1px 2px rgba(0, 0, 0, 0.3));\n",
              "      fill: #FFFFFF;\n",
              "    }\n",
              "  </style>\n",
              "\n",
              "    <script>\n",
              "      const buttonEl =\n",
              "        document.querySelector('#df-863bec69-48a7-460c-9fbd-9d5ba72c4515 button.colab-df-convert');\n",
              "      buttonEl.style.display =\n",
              "        google.colab.kernel.accessAllowed ? 'block' : 'none';\n",
              "\n",
              "      async function convertToInteractive(key) {\n",
              "        const element = document.querySelector('#df-863bec69-48a7-460c-9fbd-9d5ba72c4515');\n",
              "        const dataTable =\n",
              "          await google.colab.kernel.invokeFunction('convertToInteractive',\n",
              "                                                    [key], {});\n",
              "        if (!dataTable) return;\n",
              "\n",
              "        const docLinkHtml = 'Like what you see? Visit the ' +\n",
              "          '<a target=\"_blank\" href=https://colab.research.google.com/notebooks/data_table.ipynb>data table notebook</a>'\n",
              "          + ' to learn more about interactive tables.';\n",
              "        element.innerHTML = '';\n",
              "        dataTable['output_type'] = 'display_data';\n",
              "        await google.colab.output.renderOutput(dataTable, element);\n",
              "        const docLink = document.createElement('div');\n",
              "        docLink.innerHTML = docLinkHtml;\n",
              "        element.appendChild(docLink);\n",
              "      }\n",
              "    </script>\n",
              "  </div>\n",
              "\n",
              "\n",
              "<div id=\"df-ad941b9f-f110-4103-819f-5c684ef4605b\">\n",
              "  <button class=\"colab-df-quickchart\" onclick=\"quickchart('df-ad941b9f-f110-4103-819f-5c684ef4605b')\"\n",
              "            title=\"Suggest charts.\"\n",
              "            style=\"display:none;\">\n",
              "\n",
              "<svg xmlns=\"http://www.w3.org/2000/svg\" height=\"24px\"viewBox=\"0 0 24 24\"\n",
              "     width=\"24px\">\n",
              "    <g>\n",
              "        <path d=\"M19 3H5c-1.1 0-2 .9-2 2v14c0 1.1.9 2 2 2h14c1.1 0 2-.9 2-2V5c0-1.1-.9-2-2-2zM9 17H7v-7h2v7zm4 0h-2V7h2v10zm4 0h-2v-4h2v4z\"/>\n",
              "    </g>\n",
              "</svg>\n",
              "  </button>\n",
              "\n",
              "<style>\n",
              "  .colab-df-quickchart {\n",
              "      --bg-color: #E8F0FE;\n",
              "      --fill-color: #1967D2;\n",
              "      --hover-bg-color: #E2EBFA;\n",
              "      --hover-fill-color: #174EA6;\n",
              "      --disabled-fill-color: #AAA;\n",
              "      --disabled-bg-color: #DDD;\n",
              "  }\n",
              "\n",
              "  [theme=dark] .colab-df-quickchart {\n",
              "      --bg-color: #3B4455;\n",
              "      --fill-color: #D2E3FC;\n",
              "      --hover-bg-color: #434B5C;\n",
              "      --hover-fill-color: #FFFFFF;\n",
              "      --disabled-bg-color: #3B4455;\n",
              "      --disabled-fill-color: #666;\n",
              "  }\n",
              "\n",
              "  .colab-df-quickchart {\n",
              "    background-color: var(--bg-color);\n",
              "    border: none;\n",
              "    border-radius: 50%;\n",
              "    cursor: pointer;\n",
              "    display: none;\n",
              "    fill: var(--fill-color);\n",
              "    height: 32px;\n",
              "    padding: 0;\n",
              "    width: 32px;\n",
              "  }\n",
              "\n",
              "  .colab-df-quickchart:hover {\n",
              "    background-color: var(--hover-bg-color);\n",
              "    box-shadow: 0 1px 2px rgba(60, 64, 67, 0.3), 0 1px 3px 1px rgba(60, 64, 67, 0.15);\n",
              "    fill: var(--button-hover-fill-color);\n",
              "  }\n",
              "\n",
              "  .colab-df-quickchart-complete:disabled,\n",
              "  .colab-df-quickchart-complete:disabled:hover {\n",
              "    background-color: var(--disabled-bg-color);\n",
              "    fill: var(--disabled-fill-color);\n",
              "    box-shadow: none;\n",
              "  }\n",
              "\n",
              "  .colab-df-spinner {\n",
              "    border: 2px solid var(--fill-color);\n",
              "    border-color: transparent;\n",
              "    border-bottom-color: var(--fill-color);\n",
              "    animation:\n",
              "      spin 1s steps(1) infinite;\n",
              "  }\n",
              "\n",
              "  @keyframes spin {\n",
              "    0% {\n",
              "      border-color: transparent;\n",
              "      border-bottom-color: var(--fill-color);\n",
              "      border-left-color: var(--fill-color);\n",
              "    }\n",
              "    20% {\n",
              "      border-color: transparent;\n",
              "      border-left-color: var(--fill-color);\n",
              "      border-top-color: var(--fill-color);\n",
              "    }\n",
              "    30% {\n",
              "      border-color: transparent;\n",
              "      border-left-color: var(--fill-color);\n",
              "      border-top-color: var(--fill-color);\n",
              "      border-right-color: var(--fill-color);\n",
              "    }\n",
              "    40% {\n",
              "      border-color: transparent;\n",
              "      border-right-color: var(--fill-color);\n",
              "      border-top-color: var(--fill-color);\n",
              "    }\n",
              "    60% {\n",
              "      border-color: transparent;\n",
              "      border-right-color: var(--fill-color);\n",
              "    }\n",
              "    80% {\n",
              "      border-color: transparent;\n",
              "      border-right-color: var(--fill-color);\n",
              "      border-bottom-color: var(--fill-color);\n",
              "    }\n",
              "    90% {\n",
              "      border-color: transparent;\n",
              "      border-bottom-color: var(--fill-color);\n",
              "    }\n",
              "  }\n",
              "</style>\n",
              "\n",
              "  <script>\n",
              "    async function quickchart(key) {\n",
              "      const quickchartButtonEl =\n",
              "        document.querySelector('#' + key + ' button');\n",
              "      quickchartButtonEl.disabled = true;  // To prevent multiple clicks.\n",
              "      quickchartButtonEl.classList.add('colab-df-spinner');\n",
              "      try {\n",
              "        const charts = await google.colab.kernel.invokeFunction(\n",
              "            'suggestCharts', [key], {});\n",
              "      } catch (error) {\n",
              "        console.error('Error during call to suggestCharts:', error);\n",
              "      }\n",
              "      quickchartButtonEl.classList.remove('colab-df-spinner');\n",
              "      quickchartButtonEl.classList.add('colab-df-quickchart-complete');\n",
              "    }\n",
              "    (() => {\n",
              "      let quickchartButtonEl =\n",
              "        document.querySelector('#df-ad941b9f-f110-4103-819f-5c684ef4605b button');\n",
              "      quickchartButtonEl.style.display =\n",
              "        google.colab.kernel.accessAllowed ? 'block' : 'none';\n",
              "    })();\n",
              "  </script>\n",
              "</div>\n",
              "    </div>\n",
              "  </div>\n"
            ]
          },
          "metadata": {},
          "execution_count": 17
        }
      ]
    },
    {
      "cell_type": "code",
      "source": [
        "#Кол-во показов, кликов и покупок для каждого нашего баннера в мае:\n",
        "banner_counts_may = df_may.groupby('product')['title'].value_counts().unstack(fill_value=0)\n",
        "print(banner_counts_may)"
      ],
      "metadata": {
        "colab": {
          "base_uri": "https://localhost:8080/"
        },
        "id": "W5xGo0Q9zUk2",
        "outputId": "4b977c69-1eeb-42c1-8c53-d5c80bfae1a2"
      },
      "execution_count": 19,
      "outputs": [
        {
          "output_type": "stream",
          "name": "stdout",
          "text": [
            "title             banner_click  banner_show  order\n",
            "product                                           \n",
            "accessories              34787       361345   9381\n",
            "clothes                  56870       372245  23481\n",
            "company                  34809       378538      0\n",
            "sneakers                 47088       370090  14498\n",
            "sports_nutrition         38039       383933   5004\n"
          ]
        }
      ]
    },
    {
      "cell_type": "code",
      "source": [
        "#Конверсия в покупку (CR) по всем категориям в мае:\n",
        "banner_may_cr = banner_counts_may['order']/banner_counts_may['banner_show']*100\n",
        "print(banner_may_cr)"
      ],
      "metadata": {
        "colab": {
          "base_uri": "https://localhost:8080/"
        },
        "id": "sSJaHXSaz43y",
        "outputId": "df2dbc6b-2daa-4b55-ce46-8ce492a17f65"
      },
      "execution_count": 20,
      "outputs": [
        {
          "output_type": "stream",
          "name": "stdout",
          "text": [
            "product\n",
            "accessories         2.596134\n",
            "clothes             6.307942\n",
            "company             0.000000\n",
            "sneakers            3.917425\n",
            "sports_nutrition    1.303352\n",
            "dtype: float64\n"
          ]
        }
      ]
    },
    {
      "cell_type": "code",
      "source": [
        "#Аналогично найдем конверсии в покупку (CR) по всем категориям для остальных месяцев:\n",
        "#Январь:\n",
        "df_jan = df[df['month']==1]\n",
        "banner_counts_jan = df_jan.groupby('product')['title'].value_counts().unstack(fill_value=0)\n",
        "banner_jay_cr = banner_counts_jan['order']/banner_counts_jan['banner_show']*100\n",
        "#Ферваль:\n",
        "df_feb = df[df['month']==2]\n",
        "banner_counts_feb = df_feb.groupby('product')['title'].value_counts().unstack(fill_value=0)\n",
        "banner_feb_cr = banner_counts_feb['order']/banner_counts_feb['banner_show']*100\n",
        "#Март:\n",
        "df_mar = df[df['month']==3]\n",
        "banner_counts_mar = df_mar.groupby('product')['title'].value_counts().unstack(fill_value=0)\n",
        "banner_mar_cr = banner_counts_mar['order']/banner_counts_mar['banner_show']*100\n",
        "#Апрель:\n",
        "df_apr = df[df['month']==4]\n",
        "banner_counts_apr = df_apr.groupby('product')['title'].value_counts().unstack(fill_value=0)\n",
        "banner_apr_cr = banner_counts_apr['order']/banner_counts_apr['banner_show']*100\n",
        "#Выведем все конверсии в покупки (CR) по этим месяцам:\n",
        "print('Январь:','\\n',banner_jay_cr,'\\n')\n",
        "print('Февраль:','\\n',banner_feb_cr,'\\n')\n",
        "print('Март:','\\n',banner_mar_cr,'\\n')\n",
        "print('Апрель:','\\n',banner_apr_cr,'\\n')"
      ],
      "metadata": {
        "colab": {
          "base_uri": "https://localhost:8080/"
        },
        "id": "V1KjxVhR0YhQ",
        "outputId": "dfa1c145-089a-45db-84af-591f41fcdd06"
      },
      "execution_count": 21,
      "outputs": [
        {
          "output_type": "stream",
          "name": "stdout",
          "text": [
            "Январь: \n",
            " product\n",
            "accessories         2.444307\n",
            "clothes             6.387628\n",
            "company             0.000000\n",
            "sneakers            3.777081\n",
            "sports_nutrition    1.376356\n",
            "dtype: float64 \n",
            "\n",
            "Февраль: \n",
            " product\n",
            "accessories          3.793953\n",
            "clothes             10.054882\n",
            "company              0.000000\n",
            "sneakers             5.855666\n",
            "sports_nutrition     2.012863\n",
            "dtype: float64 \n",
            "\n",
            "Март: \n",
            " product\n",
            "accessories         3.422065\n",
            "clothes             8.568465\n",
            "company             0.000000\n",
            "sneakers            5.133593\n",
            "sports_nutrition    1.835512\n",
            "dtype: float64 \n",
            "\n",
            "Апрель: \n",
            " product\n",
            "accessories         3.403558\n",
            "clothes             8.316737\n",
            "company             0.000000\n",
            "sneakers            5.012631\n",
            "sports_nutrition    1.739670\n",
            "dtype: float64 \n",
            "\n"
          ]
        }
      ]
    },
    {
      "cell_type": "code",
      "source": [
        "#Кол-во показов, кликов и покупок для каждого нашего баннера в феврале:\n",
        "print(banner_counts_feb)"
      ],
      "metadata": {
        "colab": {
          "base_uri": "https://localhost:8080/"
        },
        "id": "AI63MRTx-LZp",
        "outputId": "fc1efc21-f5b2-4d53-9048-317a4c0b6ff0"
      },
      "execution_count": 23,
      "outputs": [
        {
          "output_type": "stream",
          "name": "stdout",
          "text": [
            "title             banner_click  banner_show  order\n",
            "product                                           \n",
            "accessories              19043       201294   7637\n",
            "clothes                  30724       200430  20153\n",
            "company                  26975       298805      0\n",
            "sneakers                 25537       201241  11784\n",
            "sports_nutrition         20034       201504   4056\n"
          ]
        }
      ]
    },
    {
      "cell_type": "code",
      "source": [
        "#Кол-во уникальных пользоваталей, видивших какой-либо из баннеров:\n",
        "users_count = df['user'].nunique()\n",
        "print(users_count)"
      ],
      "metadata": {
        "colab": {
          "base_uri": "https://localhost:8080/"
        },
        "id": "p44WZivIZejG",
        "outputId": "7ae9c724-44f7-4796-92ae-26e9563ba5c1"
      },
      "execution_count": 24,
      "outputs": [
        {
          "output_type": "stream",
          "name": "stdout",
          "text": [
            "4254621\n"
          ]
        }
      ]
    },
    {
      "cell_type": "code",
      "source": [
        "#Кол-во пользователей, совершивших хотя бы 1 покупку за все время, после клика на баннер:\n",
        "filt_df = df[df['title'] == 'order']\n",
        "users_count_order = filt_df['user'].nunique()\n",
        "print(users_count_order)"
      ],
      "metadata": {
        "colab": {
          "base_uri": "https://localhost:8080/"
        },
        "id": "auWsgJsCbAjD",
        "outputId": "e0c1e6b4-a8b0-4b1e-9080-5c60b14cd4ae"
      },
      "execution_count": 36,
      "outputs": [
        {
          "output_type": "stream",
          "name": "stdout",
          "text": [
            "237866\n"
          ]
        }
      ]
    },
    {
      "cell_type": "code",
      "source": [
        "#Кол-во пользователей, совершавших более 1 покупки за все время, после клика на баннер:\n",
        "filt_df1 = filt_df.groupby('user').filter(lambda x: len(x)>1)\n",
        "users_count_order1 = filt_df1['user'].nunique()\n",
        "print(users_count_order1)"
      ],
      "metadata": {
        "colab": {
          "base_uri": "https://localhost:8080/"
        },
        "id": "fB27iSBMdqQB",
        "outputId": "327a0c3b-52b1-463b-9c45-e349c162b37a"
      },
      "execution_count": 49,
      "outputs": [
        {
          "output_type": "stream",
          "name": "stdout",
          "text": [
            "10001\n"
          ]
        }
      ]
    },
    {
      "cell_type": "code",
      "source": [
        "#Кол-во пользователей, совершавших более 5 покупок за все время, после клика на баннер:\n",
        "filt_df5 = filt_df.groupby('user').filter(lambda x: len(x)>5)\n",
        "users_count_order5 = filt_df5['user'].nunique()\n",
        "print(users_count_order5)"
      ],
      "metadata": {
        "colab": {
          "base_uri": "https://localhost:8080/"
        },
        "id": "FUhWhfHutm9Q",
        "outputId": "0b8a7bb2-d9a3-4593-b24b-20da0fb4baa5"
      },
      "execution_count": 52,
      "outputs": [
        {
          "output_type": "stream",
          "name": "stdout",
          "text": [
            "1\n"
          ]
        }
      ]
    },
    {
      "cell_type": "code",
      "source": [
        "#Пользователь с наибольшим числом покупок после кликов на баннер:\n",
        "user_order_counts = df[df['title'] == 'order']['user'].value_counts()\n",
        "max_user = user_order_counts.idxmax()\n",
        "print(max_user)"
      ],
      "metadata": {
        "colab": {
          "base_uri": "https://localhost:8080/"
        },
        "id": "kiWNBpbOuEah",
        "outputId": "68a830f3-bc26-48de-e355-21584f20f8a9"
      },
      "execution_count": 53,
      "outputs": [
        {
          "output_type": "stream",
          "name": "stdout",
          "text": [
            "user_674959\n"
          ]
        }
      ]
    },
    {
      "cell_type": "code",
      "source": [
        "#В каком часу совершалось наибольшее число покупок после кликов на баннер:\n",
        "purchase_hour_counts = df[df['title'] == 'order']['time'].dt.hour.value_counts()\n",
        "max_purchase_hour = purchase_hour_counts.idxmax()\n",
        "print(max_purchase_hour)"
      ],
      "metadata": {
        "colab": {
          "base_uri": "https://localhost:8080/"
        },
        "id": "vQ2E0ONSuqLm",
        "outputId": "835a1353-bca5-456a-cc54-7c5846a82f44"
      },
      "execution_count": 54,
      "outputs": [
        {
          "output_type": "stream",
          "name": "stdout",
          "text": [
            "15\n"
          ]
        }
      ]
    },
    {
      "cell_type": "code",
      "source": [
        "df.sort_values(by='order_id',ascending=False)"
      ],
      "metadata": {
        "colab": {
          "base_uri": "https://localhost:8080/",
          "height": 424
        },
        "id": "VRyp9PBIXGqf",
        "outputId": "3f28ef12-2b13-461e-c1e3-a25afdc33c44"
      },
      "execution_count": 26,
      "outputs": [
        {
          "output_type": "execute_result",
          "data": {
            "text/plain": [
              "         order_id     page_id           product site_version  \\\n",
              "7018316  855750.0         NaN          sneakers       mobile   \n",
              "5991010  855748.0         NaN          sneakers       mobile   \n",
              "598355   855741.0         NaN          sneakers       mobile   \n",
              "7108136  855737.0         NaN           clothes       mobile   \n",
              "3814318  855735.0         NaN           clothes       mobile   \n",
              "...           ...         ...               ...          ...   \n",
              "8471221       NaN  24897184.0       accessories      desktop   \n",
              "8471222       NaN  24897190.0           clothes       mobile   \n",
              "8471223       NaN  24897203.0  sports_nutrition       mobile   \n",
              "8471224       NaN  24897205.0          sneakers       mobile   \n",
              "8471225       NaN  24897215.0       accessories       mobile   \n",
              "\n",
              "                       time        title          user  month  \n",
              "7018316 2017-03-31 23:07:53        order  user_3391741      3  \n",
              "5991010 2017-04-11 18:49:09        order  user_2830713      4  \n",
              "598355  2017-02-07 17:48:59        order   user_234843      2  \n",
              "7108136 2017-04-27 03:16:09        order  user_3442201      4  \n",
              "3814318 2017-04-23 23:52:48        order  user_1775727      4  \n",
              "...                     ...          ...           ...    ...  \n",
              "8471221 2017-05-23 14:07:00  banner_show  user_4254616      5  \n",
              "8471222 2017-05-28 08:10:20  banner_show  user_4254617      5  \n",
              "8471223 2017-05-20 09:20:50  banner_show  user_4254618      5  \n",
              "8471224 2017-05-28 19:25:42  banner_show  user_4254619      5  \n",
              "8471225 2017-05-31 09:18:24  banner_show  user_4254620      5  \n",
              "\n",
              "[8471226 rows x 8 columns]"
            ],
            "text/html": [
              "\n",
              "  <div id=\"df-19f53346-b953-4ea2-968b-0ca447022c55\" class=\"colab-df-container\">\n",
              "    <div>\n",
              "<style scoped>\n",
              "    .dataframe tbody tr th:only-of-type {\n",
              "        vertical-align: middle;\n",
              "    }\n",
              "\n",
              "    .dataframe tbody tr th {\n",
              "        vertical-align: top;\n",
              "    }\n",
              "\n",
              "    .dataframe thead th {\n",
              "        text-align: right;\n",
              "    }\n",
              "</style>\n",
              "<table border=\"1\" class=\"dataframe\">\n",
              "  <thead>\n",
              "    <tr style=\"text-align: right;\">\n",
              "      <th></th>\n",
              "      <th>order_id</th>\n",
              "      <th>page_id</th>\n",
              "      <th>product</th>\n",
              "      <th>site_version</th>\n",
              "      <th>time</th>\n",
              "      <th>title</th>\n",
              "      <th>user</th>\n",
              "      <th>month</th>\n",
              "    </tr>\n",
              "  </thead>\n",
              "  <tbody>\n",
              "    <tr>\n",
              "      <th>7018316</th>\n",
              "      <td>855750.0</td>\n",
              "      <td>NaN</td>\n",
              "      <td>sneakers</td>\n",
              "      <td>mobile</td>\n",
              "      <td>2017-03-31 23:07:53</td>\n",
              "      <td>order</td>\n",
              "      <td>user_3391741</td>\n",
              "      <td>3</td>\n",
              "    </tr>\n",
              "    <tr>\n",
              "      <th>5991010</th>\n",
              "      <td>855748.0</td>\n",
              "      <td>NaN</td>\n",
              "      <td>sneakers</td>\n",
              "      <td>mobile</td>\n",
              "      <td>2017-04-11 18:49:09</td>\n",
              "      <td>order</td>\n",
              "      <td>user_2830713</td>\n",
              "      <td>4</td>\n",
              "    </tr>\n",
              "    <tr>\n",
              "      <th>598355</th>\n",
              "      <td>855741.0</td>\n",
              "      <td>NaN</td>\n",
              "      <td>sneakers</td>\n",
              "      <td>mobile</td>\n",
              "      <td>2017-02-07 17:48:59</td>\n",
              "      <td>order</td>\n",
              "      <td>user_234843</td>\n",
              "      <td>2</td>\n",
              "    </tr>\n",
              "    <tr>\n",
              "      <th>7108136</th>\n",
              "      <td>855737.0</td>\n",
              "      <td>NaN</td>\n",
              "      <td>clothes</td>\n",
              "      <td>mobile</td>\n",
              "      <td>2017-04-27 03:16:09</td>\n",
              "      <td>order</td>\n",
              "      <td>user_3442201</td>\n",
              "      <td>4</td>\n",
              "    </tr>\n",
              "    <tr>\n",
              "      <th>3814318</th>\n",
              "      <td>855735.0</td>\n",
              "      <td>NaN</td>\n",
              "      <td>clothes</td>\n",
              "      <td>mobile</td>\n",
              "      <td>2017-04-23 23:52:48</td>\n",
              "      <td>order</td>\n",
              "      <td>user_1775727</td>\n",
              "      <td>4</td>\n",
              "    </tr>\n",
              "    <tr>\n",
              "      <th>...</th>\n",
              "      <td>...</td>\n",
              "      <td>...</td>\n",
              "      <td>...</td>\n",
              "      <td>...</td>\n",
              "      <td>...</td>\n",
              "      <td>...</td>\n",
              "      <td>...</td>\n",
              "      <td>...</td>\n",
              "    </tr>\n",
              "    <tr>\n",
              "      <th>8471221</th>\n",
              "      <td>NaN</td>\n",
              "      <td>24897184.0</td>\n",
              "      <td>accessories</td>\n",
              "      <td>desktop</td>\n",
              "      <td>2017-05-23 14:07:00</td>\n",
              "      <td>banner_show</td>\n",
              "      <td>user_4254616</td>\n",
              "      <td>5</td>\n",
              "    </tr>\n",
              "    <tr>\n",
              "      <th>8471222</th>\n",
              "      <td>NaN</td>\n",
              "      <td>24897190.0</td>\n",
              "      <td>clothes</td>\n",
              "      <td>mobile</td>\n",
              "      <td>2017-05-28 08:10:20</td>\n",
              "      <td>banner_show</td>\n",
              "      <td>user_4254617</td>\n",
              "      <td>5</td>\n",
              "    </tr>\n",
              "    <tr>\n",
              "      <th>8471223</th>\n",
              "      <td>NaN</td>\n",
              "      <td>24897203.0</td>\n",
              "      <td>sports_nutrition</td>\n",
              "      <td>mobile</td>\n",
              "      <td>2017-05-20 09:20:50</td>\n",
              "      <td>banner_show</td>\n",
              "      <td>user_4254618</td>\n",
              "      <td>5</td>\n",
              "    </tr>\n",
              "    <tr>\n",
              "      <th>8471224</th>\n",
              "      <td>NaN</td>\n",
              "      <td>24897205.0</td>\n",
              "      <td>sneakers</td>\n",
              "      <td>mobile</td>\n",
              "      <td>2017-05-28 19:25:42</td>\n",
              "      <td>banner_show</td>\n",
              "      <td>user_4254619</td>\n",
              "      <td>5</td>\n",
              "    </tr>\n",
              "    <tr>\n",
              "      <th>8471225</th>\n",
              "      <td>NaN</td>\n",
              "      <td>24897215.0</td>\n",
              "      <td>accessories</td>\n",
              "      <td>mobile</td>\n",
              "      <td>2017-05-31 09:18:24</td>\n",
              "      <td>banner_show</td>\n",
              "      <td>user_4254620</td>\n",
              "      <td>5</td>\n",
              "    </tr>\n",
              "  </tbody>\n",
              "</table>\n",
              "<p>8471226 rows × 8 columns</p>\n",
              "</div>\n",
              "    <div class=\"colab-df-buttons\">\n",
              "\n",
              "  <div class=\"colab-df-container\">\n",
              "    <button class=\"colab-df-convert\" onclick=\"convertToInteractive('df-19f53346-b953-4ea2-968b-0ca447022c55')\"\n",
              "            title=\"Convert this dataframe to an interactive table.\"\n",
              "            style=\"display:none;\">\n",
              "\n",
              "  <svg xmlns=\"http://www.w3.org/2000/svg\" height=\"24px\" viewBox=\"0 -960 960 960\">\n",
              "    <path d=\"M120-120v-720h720v720H120Zm60-500h600v-160H180v160Zm220 220h160v-160H400v160Zm0 220h160v-160H400v160ZM180-400h160v-160H180v160Zm440 0h160v-160H620v160ZM180-180h160v-160H180v160Zm440 0h160v-160H620v160Z\"/>\n",
              "  </svg>\n",
              "    </button>\n",
              "\n",
              "  <style>\n",
              "    .colab-df-container {\n",
              "      display:flex;\n",
              "      gap: 12px;\n",
              "    }\n",
              "\n",
              "    .colab-df-convert {\n",
              "      background-color: #E8F0FE;\n",
              "      border: none;\n",
              "      border-radius: 50%;\n",
              "      cursor: pointer;\n",
              "      display: none;\n",
              "      fill: #1967D2;\n",
              "      height: 32px;\n",
              "      padding: 0 0 0 0;\n",
              "      width: 32px;\n",
              "    }\n",
              "\n",
              "    .colab-df-convert:hover {\n",
              "      background-color: #E2EBFA;\n",
              "      box-shadow: 0px 1px 2px rgba(60, 64, 67, 0.3), 0px 1px 3px 1px rgba(60, 64, 67, 0.15);\n",
              "      fill: #174EA6;\n",
              "    }\n",
              "\n",
              "    .colab-df-buttons div {\n",
              "      margin-bottom: 4px;\n",
              "    }\n",
              "\n",
              "    [theme=dark] .colab-df-convert {\n",
              "      background-color: #3B4455;\n",
              "      fill: #D2E3FC;\n",
              "    }\n",
              "\n",
              "    [theme=dark] .colab-df-convert:hover {\n",
              "      background-color: #434B5C;\n",
              "      box-shadow: 0px 1px 3px 1px rgba(0, 0, 0, 0.15);\n",
              "      filter: drop-shadow(0px 1px 2px rgba(0, 0, 0, 0.3));\n",
              "      fill: #FFFFFF;\n",
              "    }\n",
              "  </style>\n",
              "\n",
              "    <script>\n",
              "      const buttonEl =\n",
              "        document.querySelector('#df-19f53346-b953-4ea2-968b-0ca447022c55 button.colab-df-convert');\n",
              "      buttonEl.style.display =\n",
              "        google.colab.kernel.accessAllowed ? 'block' : 'none';\n",
              "\n",
              "      async function convertToInteractive(key) {\n",
              "        const element = document.querySelector('#df-19f53346-b953-4ea2-968b-0ca447022c55');\n",
              "        const dataTable =\n",
              "          await google.colab.kernel.invokeFunction('convertToInteractive',\n",
              "                                                    [key], {});\n",
              "        if (!dataTable) return;\n",
              "\n",
              "        const docLinkHtml = 'Like what you see? Visit the ' +\n",
              "          '<a target=\"_blank\" href=https://colab.research.google.com/notebooks/data_table.ipynb>data table notebook</a>'\n",
              "          + ' to learn more about interactive tables.';\n",
              "        element.innerHTML = '';\n",
              "        dataTable['output_type'] = 'display_data';\n",
              "        await google.colab.output.renderOutput(dataTable, element);\n",
              "        const docLink = document.createElement('div');\n",
              "        docLink.innerHTML = docLinkHtml;\n",
              "        element.appendChild(docLink);\n",
              "      }\n",
              "    </script>\n",
              "  </div>\n",
              "\n",
              "\n",
              "<div id=\"df-9c9194cc-f667-40dc-b42f-d402002eb95f\">\n",
              "  <button class=\"colab-df-quickchart\" onclick=\"quickchart('df-9c9194cc-f667-40dc-b42f-d402002eb95f')\"\n",
              "            title=\"Suggest charts.\"\n",
              "            style=\"display:none;\">\n",
              "\n",
              "<svg xmlns=\"http://www.w3.org/2000/svg\" height=\"24px\"viewBox=\"0 0 24 24\"\n",
              "     width=\"24px\">\n",
              "    <g>\n",
              "        <path d=\"M19 3H5c-1.1 0-2 .9-2 2v14c0 1.1.9 2 2 2h14c1.1 0 2-.9 2-2V5c0-1.1-.9-2-2-2zM9 17H7v-7h2v7zm4 0h-2V7h2v10zm4 0h-2v-4h2v4z\"/>\n",
              "    </g>\n",
              "</svg>\n",
              "  </button>\n",
              "\n",
              "<style>\n",
              "  .colab-df-quickchart {\n",
              "      --bg-color: #E8F0FE;\n",
              "      --fill-color: #1967D2;\n",
              "      --hover-bg-color: #E2EBFA;\n",
              "      --hover-fill-color: #174EA6;\n",
              "      --disabled-fill-color: #AAA;\n",
              "      --disabled-bg-color: #DDD;\n",
              "  }\n",
              "\n",
              "  [theme=dark] .colab-df-quickchart {\n",
              "      --bg-color: #3B4455;\n",
              "      --fill-color: #D2E3FC;\n",
              "      --hover-bg-color: #434B5C;\n",
              "      --hover-fill-color: #FFFFFF;\n",
              "      --disabled-bg-color: #3B4455;\n",
              "      --disabled-fill-color: #666;\n",
              "  }\n",
              "\n",
              "  .colab-df-quickchart {\n",
              "    background-color: var(--bg-color);\n",
              "    border: none;\n",
              "    border-radius: 50%;\n",
              "    cursor: pointer;\n",
              "    display: none;\n",
              "    fill: var(--fill-color);\n",
              "    height: 32px;\n",
              "    padding: 0;\n",
              "    width: 32px;\n",
              "  }\n",
              "\n",
              "  .colab-df-quickchart:hover {\n",
              "    background-color: var(--hover-bg-color);\n",
              "    box-shadow: 0 1px 2px rgba(60, 64, 67, 0.3), 0 1px 3px 1px rgba(60, 64, 67, 0.15);\n",
              "    fill: var(--button-hover-fill-color);\n",
              "  }\n",
              "\n",
              "  .colab-df-quickchart-complete:disabled,\n",
              "  .colab-df-quickchart-complete:disabled:hover {\n",
              "    background-color: var(--disabled-bg-color);\n",
              "    fill: var(--disabled-fill-color);\n",
              "    box-shadow: none;\n",
              "  }\n",
              "\n",
              "  .colab-df-spinner {\n",
              "    border: 2px solid var(--fill-color);\n",
              "    border-color: transparent;\n",
              "    border-bottom-color: var(--fill-color);\n",
              "    animation:\n",
              "      spin 1s steps(1) infinite;\n",
              "  }\n",
              "\n",
              "  @keyframes spin {\n",
              "    0% {\n",
              "      border-color: transparent;\n",
              "      border-bottom-color: var(--fill-color);\n",
              "      border-left-color: var(--fill-color);\n",
              "    }\n",
              "    20% {\n",
              "      border-color: transparent;\n",
              "      border-left-color: var(--fill-color);\n",
              "      border-top-color: var(--fill-color);\n",
              "    }\n",
              "    30% {\n",
              "      border-color: transparent;\n",
              "      border-left-color: var(--fill-color);\n",
              "      border-top-color: var(--fill-color);\n",
              "      border-right-color: var(--fill-color);\n",
              "    }\n",
              "    40% {\n",
              "      border-color: transparent;\n",
              "      border-right-color: var(--fill-color);\n",
              "      border-top-color: var(--fill-color);\n",
              "    }\n",
              "    60% {\n",
              "      border-color: transparent;\n",
              "      border-right-color: var(--fill-color);\n",
              "    }\n",
              "    80% {\n",
              "      border-color: transparent;\n",
              "      border-right-color: var(--fill-color);\n",
              "      border-bottom-color: var(--fill-color);\n",
              "    }\n",
              "    90% {\n",
              "      border-color: transparent;\n",
              "      border-bottom-color: var(--fill-color);\n",
              "    }\n",
              "  }\n",
              "</style>\n",
              "\n",
              "  <script>\n",
              "    async function quickchart(key) {\n",
              "      const quickchartButtonEl =\n",
              "        document.querySelector('#' + key + ' button');\n",
              "      quickchartButtonEl.disabled = true;  // To prevent multiple clicks.\n",
              "      quickchartButtonEl.classList.add('colab-df-spinner');\n",
              "      try {\n",
              "        const charts = await google.colab.kernel.invokeFunction(\n",
              "            'suggestCharts', [key], {});\n",
              "      } catch (error) {\n",
              "        console.error('Error during call to suggestCharts:', error);\n",
              "      }\n",
              "      quickchartButtonEl.classList.remove('colab-df-spinner');\n",
              "      quickchartButtonEl.classList.add('colab-df-quickchart-complete');\n",
              "    }\n",
              "    (() => {\n",
              "      let quickchartButtonEl =\n",
              "        document.querySelector('#df-9c9194cc-f667-40dc-b42f-d402002eb95f button');\n",
              "      quickchartButtonEl.style.display =\n",
              "        google.colab.kernel.accessAllowed ? 'block' : 'none';\n",
              "    })();\n",
              "  </script>\n",
              "</div>\n",
              "    </div>\n",
              "  </div>\n"
            ]
          },
          "metadata": {},
          "execution_count": 26
        }
      ]
    },
    {
      "cell_type": "code",
      "source": [
        "#Общее количество покупок в нашем онлайн магазине (речь идет вообще о всех покупках в нашем онлайн магазине, т.е. не только те покупки, которые совершались после клика на баннер):\n",
        "all_orders = int(df['order_id'].max())\n",
        "print(all_orders)"
      ],
      "metadata": {
        "colab": {
          "base_uri": "https://localhost:8080/"
        },
        "id": "Chl9m68sb9WQ",
        "outputId": "14f2e013-af6d-419b-9685-2a675ef1e932"
      },
      "execution_count": 31,
      "outputs": [
        {
          "output_type": "stream",
          "name": "stdout",
          "text": [
            "855750\n"
          ]
        }
      ]
    },
    {
      "cell_type": "code",
      "source": [
        "#Количество покупок после клика на баннер:\n",
        "banner_orders = df['title'].value_counts()['order']\n",
        "print(banner_orders)"
      ],
      "metadata": {
        "colab": {
          "base_uri": "https://localhost:8080/"
        },
        "id": "IfbnqNTweSag",
        "outputId": "01a7a726-6811-46d3-f6b3-2e34eaa9fc36"
      },
      "execution_count": 32,
      "outputs": [
        {
          "output_type": "stream",
          "name": "stdout",
          "text": [
            "248722\n"
          ]
        }
      ]
    },
    {
      "cell_type": "code",
      "source": [
        "#Количество покупок, совершенных, не взаимодействуя с баннерами:\n",
        "print(all_orders-banner_orders)"
      ],
      "metadata": {
        "colab": {
          "base_uri": "https://localhost:8080/"
        },
        "id": "Qw5i6dVlikU9",
        "outputId": "653635a2-054d-4c24-c223-8610c17df811"
      },
      "execution_count": 39,
      "outputs": [
        {
          "output_type": "stream",
          "name": "stdout",
          "text": [
            "607028\n"
          ]
        }
      ]
    },
    {
      "cell_type": "code",
      "source": [
        "#Конверсия в покупку (CR) за все 5 месяцев для тех покупок, которые совершались после клика на баннер:\n",
        "print(banner_orders/users_count*100)"
      ],
      "metadata": {
        "colab": {
          "base_uri": "https://localhost:8080/"
        },
        "id": "h-ba5iJlgo8t",
        "outputId": "41057dba-3b1d-461a-b8ea-596b09821bbb"
      },
      "execution_count": 62,
      "outputs": [
        {
          "output_type": "stream",
          "name": "stdout",
          "text": [
            "5.845926111867543\n"
          ]
        }
      ]
    },
    {
      "cell_type": "code",
      "source": [
        "df.sort_values(by='page_id')\n",
        "#Найдем общее количество пользователей, которые посещали наш онлайн магазин(т.е. не только те пользователи, которые видели баннер, а вообще все):\n",
        "all_users = int(df['page_id'].max())\n",
        "print(all_users)"
      ],
      "metadata": {
        "colab": {
          "base_uri": "https://localhost:8080/"
        },
        "id": "rde9A6MIwYMe",
        "outputId": "8bc14acd-e8e6-4265-bded-25b079289bdd"
      },
      "execution_count": 66,
      "outputs": [
        {
          "output_type": "stream",
          "name": "stdout",
          "text": [
            "24897219\n"
          ]
        }
      ]
    },
    {
      "cell_type": "code",
      "source": [
        "#Найдем количество пользователей совершивших покупку, не взаимодействуя с баннером:\n",
        "print(all_users-users_count)"
      ],
      "metadata": {
        "colab": {
          "base_uri": "https://localhost:8080/"
        },
        "id": "Kp06pPaYx2kr",
        "outputId": "19ca65ed-16cb-43d5-bbdf-5c882953a3a4"
      },
      "execution_count": 65,
      "outputs": [
        {
          "output_type": "stream",
          "name": "stdout",
          "text": [
            "20642598\n"
          ]
        }
      ]
    },
    {
      "cell_type": "code",
      "source": [
        "#Конверсия в покупку (CR) за все 5 месяцев для тех покупок, которые совершались без взаимодействия с баннерами:\n",
        "print((all_orders-banner_orders)/(all_users-users_count)*100)"
      ],
      "metadata": {
        "colab": {
          "base_uri": "https://localhost:8080/"
        },
        "id": "v0UCeiwQyJyV",
        "outputId": "ee92b23e-de67-4781-f6bf-da277098f5d1"
      },
      "execution_count": 64,
      "outputs": [
        {
          "output_type": "stream",
          "name": "stdout",
          "text": [
            "2.9406569851333635\n"
          ]
        }
      ]
    },
    {
      "cell_type": "markdown",
      "source": [
        "Вывод: продавать место для рекламы другого сервиса не нужно. Конверсия в покупку за все 5 месяцев для тех покупок, которые совершались без взаимодействия с баннерами ниже на 2.9% по сравнению с конверсией в покупку тех покупок в тот же временной период, которые совершались после кликов на баннеры.\n",
        "Однако стоит изменить следующее:\n",
        "1) Баннер company показывается чаще остальных наших баннеров (1580238 раз за 5 месяцев), однако какой в этом смысл, если он не продающий и мы не получаем с него orderов. Его количеcтво показов я бы уменьшил, а вместо этого увеличил показы баннера clothes, которые демонстрирует наилучшую конверсию в покупку каждый месяц при том же количестве показов, что и у остальных наших баннеров. Либо вместо баннера company вообще показывать баннер какого-либо нового продукта.\n",
        "2) Далее стоит обратить внимание на версии сайтов. В мобильной версии мы показываем баннеры в 2.5 раза чаще, но при этом конверсия в покупку почти в 3 раза выше у десктопной версии сайта. Из этого следует вывод, что количество показов баннеров в десктопной версии нужно увеличить.\n",
        "3) Конверсия в покупку по месяцам для тех покупок, которые совершались после взаимодействия с баннерами тоже растет. Например, виден явный прогресс в феврале и марте по сравнению с январем, конверсия по всем продуктам стала выше (от 0.5% до 4% повышения).\n",
        "Интересные факты из нашего датафрейма:\n",
        "1) Пользователь с наибольшим числом покупок после кликов на баннер - это user_674959.\n",
        "2) C 15:00 до 16:00 совершалось наибольшее число покупок после кликов на баннер.\n",
        "3) Количество пользователей, совершавших более 1 покупки за все время, путем взаимодействия с баннерами - это 10001 человек, однако более 5 покупок, взаимодействуя с баннерами совершил только 1 пользователь.\n"
      ],
      "metadata": {
        "id": "_YhuK52qk_7C"
      }
    }
  ],
  "metadata": {
    "colab": {
      "provenance": [],
      "include_colab_link": true
    },
    "kernelspec": {
      "display_name": "Python 3",
      "name": "python3"
    },
    "language_info": {
      "name": "python"
    }
  },
  "nbformat": 4,
  "nbformat_minor": 0
}